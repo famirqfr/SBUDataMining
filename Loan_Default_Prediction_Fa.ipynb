{
 "cells": [
  {
   "cell_type": "markdown",
   "metadata": {},
   "source": [
    "# **پیش بینی پیش فرض وام**"
   ]
  },
  {
   "cell_type": "markdown",
   "metadata": {},
   "source": [
    "----------------------------------------\n",
    "## **اهداف و اطلاعات**\n",
    "----------------------------------------\n",
    "\n",
    "-توانایی شناسایی وام‌های معوقه در حوزه مالی بسیار بحرانی است. با داشتن مجموعه‌ای از ویژگی‌ها در مورد یک فرد، هدف پیش‌بینی این است که آیا فرد مورد نظر وام راپرداخت خواهد کرد یا خیر.\n",
    "-در این jupyter notebook، قصد داریم به مفاهیم LVC 3 پرداخت کرده و سعی کنیم یک مدل ایجاد کنیم که پیش‌بینی کند که آیا شخص خاصی وام را پرداخت خواهد کرد یا خیر.\n",
    "\n",
    "\n",
    "--------------------\n",
    "## **مجموعه داده**\n",
    "--------------------\n",
    "\n",
    "مجموعه داده ای که در اختیار داریم حاوی ویژگی های (ستون) زیر می‌باشد:\n",
    "\n",
    "- **Default** - Yes/No, متغیر وابسته طبقه‌ای که وضعیت پیش‌فرض را نشان می‌دهد.\n",
    "- **Student** - Yes/No, متغیر مستقل طبقه بندی که نشان می دهد متقاضی دانشجو است یا خیر.\n",
    "- **Balance** - موجودی حساب متقاضی.\n",
    "- **Income** - درآمد متقاضی."
   ]
  },
  {
   "cell_type": "markdown",
   "metadata": {},
   "source": [
    "## **افزودن کتابخانه ها مورد نیاز**"
   ]
  },
  {
   "cell_type": "code",
   "execution_count": 17,
   "metadata": {},
   "outputs": [],
   "source": [
    "import pandas as pd\n",
    "\n",
    "import numpy as np\n",
    "\n",
    "import numpy as np\n",
    "\n",
    "from sklearn import linear_model\n",
    "\n",
    "import matplotlib.pyplot as plt\n",
    "\n",
    "import seaborn as sns\n",
    "\n",
    "import warnings\n",
    "warnings.filterwarnings('ignore') # برای نمایش ندادن هشدار ها\n",
    "\n",
    "# برای حذف نماد های علمی و نمایش اعداد با دو رقم اعشار\n",
    "pd.options.display.float_format = '{:,.2f}'.format        \n",
    "\n",
    "# بروزرسانی تم پیش فرض نمودار ها\n",
    "sns.set_style(style = 'darkgrid')"
   ]
  },
  {
   "cell_type": "markdown",
   "metadata": {},
   "source": [
    "### **بارگیری مجموعه داده‌ها(Datasets)**"
   ]
  },
  {
   "cell_type": "code",
   "execution_count": 18,
   "metadata": {},
   "outputs": [],
   "source": [
    "#  خواندن دیتاست\n",
    "df = pd.read_csv('Default.csv')"
   ]
  },
  {
   "cell_type": "markdown",
   "metadata": {},
   "source": [
    "**نمایش 5 سطر ابتدایی داده های موجود در دیتاست**"
   ]
  },
  {
   "cell_type": "code",
   "execution_count": 19,
   "metadata": {},
   "outputs": [
    {
     "data": {
      "text/html": [
       "<div>\n",
       "<style scoped>\n",
       "    .dataframe tbody tr th:only-of-type {\n",
       "        vertical-align: middle;\n",
       "    }\n",
       "\n",
       "    .dataframe tbody tr th {\n",
       "        vertical-align: top;\n",
       "    }\n",
       "\n",
       "    .dataframe thead th {\n",
       "        text-align: right;\n",
       "    }\n",
       "</style>\n",
       "<table border=\"1\" class=\"dataframe\">\n",
       "  <thead>\n",
       "    <tr style=\"text-align: right;\">\n",
       "      <th></th>\n",
       "      <th>Unnamed: 0</th>\n",
       "      <th>default</th>\n",
       "      <th>student</th>\n",
       "      <th>balance</th>\n",
       "      <th>income</th>\n",
       "    </tr>\n",
       "  </thead>\n",
       "  <tbody>\n",
       "    <tr>\n",
       "      <th>0</th>\n",
       "      <td>1</td>\n",
       "      <td>No</td>\n",
       "      <td>No</td>\n",
       "      <td>729.53</td>\n",
       "      <td>44,361.63</td>\n",
       "    </tr>\n",
       "    <tr>\n",
       "      <th>1</th>\n",
       "      <td>2</td>\n",
       "      <td>No</td>\n",
       "      <td>Yes</td>\n",
       "      <td>817.18</td>\n",
       "      <td>12,106.13</td>\n",
       "    </tr>\n",
       "    <tr>\n",
       "      <th>2</th>\n",
       "      <td>3</td>\n",
       "      <td>No</td>\n",
       "      <td>No</td>\n",
       "      <td>1,073.55</td>\n",
       "      <td>31,767.14</td>\n",
       "    </tr>\n",
       "    <tr>\n",
       "      <th>3</th>\n",
       "      <td>4</td>\n",
       "      <td>No</td>\n",
       "      <td>No</td>\n",
       "      <td>529.25</td>\n",
       "      <td>35,704.49</td>\n",
       "    </tr>\n",
       "    <tr>\n",
       "      <th>4</th>\n",
       "      <td>5</td>\n",
       "      <td>No</td>\n",
       "      <td>No</td>\n",
       "      <td>785.66</td>\n",
       "      <td>38,463.50</td>\n",
       "    </tr>\n",
       "  </tbody>\n",
       "</table>\n",
       "</div>"
      ],
      "text/plain": [
       "   Unnamed: 0 default student  balance    income\n",
       "0           1      No      No   729.53 44,361.63\n",
       "1           2      No     Yes   817.18 12,106.13\n",
       "2           3      No      No 1,073.55 31,767.14\n",
       "3           4      No      No   529.25 35,704.49\n",
       "4           5      No      No   785.66 38,463.50"
      ]
     },
     "execution_count": 19,
     "metadata": {},
     "output_type": "execute_result"
    }
   ],
   "source": [
    "df.head()"
   ]
  },
  {
   "cell_type": "code",
   "execution_count": 20,
   "metadata": {},
   "outputs": [
    {
     "data": {
      "text/html": [
       "<div>\n",
       "<style scoped>\n",
       "    .dataframe tbody tr th:only-of-type {\n",
       "        vertical-align: middle;\n",
       "    }\n",
       "\n",
       "    .dataframe tbody tr th {\n",
       "        vertical-align: top;\n",
       "    }\n",
       "\n",
       "    .dataframe thead th {\n",
       "        text-align: right;\n",
       "    }\n",
       "</style>\n",
       "<table border=\"1\" class=\"dataframe\">\n",
       "  <thead>\n",
       "    <tr style=\"text-align: right;\">\n",
       "      <th></th>\n",
       "      <th>default</th>\n",
       "      <th>student</th>\n",
       "      <th>balance</th>\n",
       "      <th>income</th>\n",
       "    </tr>\n",
       "  </thead>\n",
       "  <tbody>\n",
       "    <tr>\n",
       "      <th>0</th>\n",
       "      <td>No</td>\n",
       "      <td>No</td>\n",
       "      <td>729.53</td>\n",
       "      <td>44,361.63</td>\n",
       "    </tr>\n",
       "    <tr>\n",
       "      <th>1</th>\n",
       "      <td>No</td>\n",
       "      <td>Yes</td>\n",
       "      <td>817.18</td>\n",
       "      <td>12,106.13</td>\n",
       "    </tr>\n",
       "    <tr>\n",
       "      <th>2</th>\n",
       "      <td>No</td>\n",
       "      <td>No</td>\n",
       "      <td>1,073.55</td>\n",
       "      <td>31,767.14</td>\n",
       "    </tr>\n",
       "    <tr>\n",
       "      <th>3</th>\n",
       "      <td>No</td>\n",
       "      <td>No</td>\n",
       "      <td>529.25</td>\n",
       "      <td>35,704.49</td>\n",
       "    </tr>\n",
       "    <tr>\n",
       "      <th>4</th>\n",
       "      <td>No</td>\n",
       "      <td>No</td>\n",
       "      <td>785.66</td>\n",
       "      <td>38,463.50</td>\n",
       "    </tr>\n",
       "  </tbody>\n",
       "</table>\n",
       "</div>"
      ],
      "text/plain": [
       "  default student  balance    income\n",
       "0      No      No   729.53 44,361.63\n",
       "1      No     Yes   817.18 12,106.13\n",
       "2      No      No 1,073.55 31,767.14\n",
       "3      No      No   529.25 35,704.49\n",
       "4      No      No   785.66 38,463.50"
      ]
     },
     "execution_count": 20,
     "metadata": {},
     "output_type": "execute_result"
    }
   ],
   "source": [
    "# حذف ستون unnamed\n",
    "# به این خاطر که فقط ایندکس است و کاربردی ندارد\n",
    "\n",
    "df.drop(columns = ['Unnamed: 0'], inplace = True)\n",
    "\n",
    "df.head()"
   ]
  },
  {
   "cell_type": "code",
   "execution_count": 21,
   "metadata": {},
   "outputs": [],
   "source": [
    "# تعریف یک دیکشنری برای انکه yes را به 1 و no را به 0 نگاشت کند\n",
    "\n",
    "encoding_dict = {'Yes': 1, 'No': 0}"
   ]
  },
  {
   "cell_type": "code",
   "execution_count": 22,
   "metadata": {},
   "outputs": [],
   "source": [
    "# نگاشت ستون default, student\n",
    "\n",
    "df['default'] = df['default'].map(encoding_dict)\n",
    "\n",
    "df['student'] = df['student'].map(encoding_dict)"
   ]
  },
  {
   "cell_type": "code",
   "execution_count": 23,
   "metadata": {},
   "outputs": [
    {
     "data": {
      "text/html": [
       "<div>\n",
       "<style scoped>\n",
       "    .dataframe tbody tr th:only-of-type {\n",
       "        vertical-align: middle;\n",
       "    }\n",
       "\n",
       "    .dataframe tbody tr th {\n",
       "        vertical-align: top;\n",
       "    }\n",
       "\n",
       "    .dataframe thead th {\n",
       "        text-align: right;\n",
       "    }\n",
       "</style>\n",
       "<table border=\"1\" class=\"dataframe\">\n",
       "  <thead>\n",
       "    <tr style=\"text-align: right;\">\n",
       "      <th></th>\n",
       "      <th>default</th>\n",
       "      <th>student</th>\n",
       "      <th>balance</th>\n",
       "      <th>income</th>\n",
       "    </tr>\n",
       "  </thead>\n",
       "  <tbody>\n",
       "    <tr>\n",
       "      <th>0</th>\n",
       "      <td>0</td>\n",
       "      <td>0</td>\n",
       "      <td>729.53</td>\n",
       "      <td>44,361.63</td>\n",
       "    </tr>\n",
       "    <tr>\n",
       "      <th>1</th>\n",
       "      <td>0</td>\n",
       "      <td>1</td>\n",
       "      <td>817.18</td>\n",
       "      <td>12,106.13</td>\n",
       "    </tr>\n",
       "    <tr>\n",
       "      <th>2</th>\n",
       "      <td>0</td>\n",
       "      <td>0</td>\n",
       "      <td>1,073.55</td>\n",
       "      <td>31,767.14</td>\n",
       "    </tr>\n",
       "    <tr>\n",
       "      <th>3</th>\n",
       "      <td>0</td>\n",
       "      <td>0</td>\n",
       "      <td>529.25</td>\n",
       "      <td>35,704.49</td>\n",
       "    </tr>\n",
       "    <tr>\n",
       "      <th>4</th>\n",
       "      <td>0</td>\n",
       "      <td>0</td>\n",
       "      <td>785.66</td>\n",
       "      <td>38,463.50</td>\n",
       "    </tr>\n",
       "  </tbody>\n",
       "</table>\n",
       "</div>"
      ],
      "text/plain": [
       "   default  student  balance    income\n",
       "0        0        0   729.53 44,361.63\n",
       "1        0        1   817.18 12,106.13\n",
       "2        0        0 1,073.55 31,767.14\n",
       "3        0        0   529.25 35,704.49\n",
       "4        0        0   785.66 38,463.50"
      ]
     },
     "execution_count": 23,
     "metadata": {},
     "output_type": "execute_result"
    }
   ],
   "source": [
    "# نمایش 5 سطر اولیه\n",
    "df.head()"
   ]
  },
  {
   "cell_type": "markdown",
   "metadata": {},
   "source": [
    "بیایید بررسی کنیم که درصد پیش‌فرض‌ها و غیرقابل پیش‌فرض‌ها در داده‌ها چقدر است."
   ]
  },
  {
   "cell_type": "code",
   "execution_count": 24,
   "metadata": {},
   "outputs": [
    {
     "data": {
      "text/plain": [
       "default\n",
       "0   0.97\n",
       "1   0.03\n",
       "Name: proportion, dtype: float64"
      ]
     },
     "execution_count": 24,
     "metadata": {},
     "output_type": "execute_result"
    }
   ],
   "source": [
    "df['default'].value_counts(normalize = True)"
   ]
  },
  {
   "cell_type": "markdown",
   "metadata": {},
   "source": [
    "- فقط 3.33 درصد از نقاط داده نشان دهنده کلاس Default است.\n",
    "\n",
    "اجازه دهید نگاهی به اطلاعات داده ها نیز بیندازیم."
   ]
  },
  {
   "cell_type": "markdown",
   "metadata": {},
   "source": [
    "### **بررسی اطلاعات داده ها**"
   ]
  },
  {
   "cell_type": "code",
   "execution_count": 25,
   "metadata": {},
   "outputs": [
    {
     "name": "stdout",
     "output_type": "stream",
     "text": [
      "<class 'pandas.core.frame.DataFrame'>\n",
      "RangeIndex: 10000 entries, 0 to 9999\n",
      "Data columns (total 4 columns):\n",
      " #   Column   Non-Null Count  Dtype  \n",
      "---  ------   --------------  -----  \n",
      " 0   default  10000 non-null  int64  \n",
      " 1   student  10000 non-null  int64  \n",
      " 2   balance  10000 non-null  float64\n",
      " 3   income   10000 non-null  float64\n",
      "dtypes: float64(2), int64(2)\n",
      "memory usage: 312.6 KB\n"
     ]
    }
   ],
   "source": [
    "df.info()"
   ]
  },
  {
   "cell_type": "markdown",
   "metadata": {},
   "source": [
    "- به نظر نمی رسد مقادیر گم شده ای وجود داشته باشد. بنابر این مسقیما به مدل سازی می پردازیم"
   ]
  },
  {
   "cell_type": "markdown",
   "metadata": {},
   "source": [
    "## **تحلیل تشخیص خطی**"
   ]
  },
  {
   "cell_type": "code",
   "execution_count": 26,
   "metadata": {},
   "outputs": [],
   "source": [
    "# افزودن کتابخانه sklearn LDA\n",
    "from sklearn.discriminant_analysis import LinearDiscriminantAnalysis\n",
    "\n",
    "from sklearn.discriminant_analysis import QuadraticDiscriminantAnalysis"
   ]
  },
  {
   "cell_type": "code",
   "execution_count": 28,
   "metadata": {},
   "outputs": [
    {
     "name": "stdout",
     "output_type": "stream",
     "text": [
      "میزان خطای LDA در حالی که فقط از تعادل به عنوان یک ویژگی استفاده می شود 2.81% \n",
      "نرخ خطای QDA در حالی که فقط از تعادل به عنوان یک ویژگی استفاده می شود 2.74%\n"
     ]
    }
   ],
   "source": [
    "# استفاده تک به تک از ویژگی ها\n",
    "\n",
    "balance = df.balance.values.reshape(len(df['balance']), 1)\n",
    "\n",
    "default = df.default.values.reshape(len(df['default']), 1)\n",
    "\n",
    "student = df.student.values.reshape(len(df['student']), 1)\n",
    "\n",
    "income = df.income.values.reshape(len(df['income']), 1)\n",
    "\n",
    "features = ['balance', 'student', 'income']\n",
    "\n",
    "# برازش بر رو LDA\n",
    "\n",
    "lda = LinearDiscriminantAnalysis()\n",
    "\n",
    "lda.fit(balance, df['default'])\n",
    "\n",
    "lda_error_rate = (1 - lda.score(balance, default))*100\n",
    "\n",
    "# برازش بر روی مدل QDA\n",
    "\n",
    "qda = QuadraticDiscriminantAnalysis()\n",
    "\n",
    "qda.fit(balance, df['default'])\n",
    "\n",
    "qda_error_rate = (1 - qda.score(balance, default))*100\n",
    "\n",
    "print(\"میزان خطای LDA در حالی که فقط از تعادل به عنوان یک ویژگی استفاده می شود {}% \".format(np.round(lda_error_rate, 2)))\n",
    "\n",
    "print(\"نرخ خطای QDA در حالی که فقط از تعادل به عنوان یک ویژگی استفاده می شود {}%\".format(np.round(qda_error_rate, 2)))"
   ]
  },
  {
   "cell_type": "code",
   "execution_count": 30,
   "metadata": {},
   "outputs": [
    {
     "name": "stdout",
     "output_type": "stream",
     "text": [
      "میزان خطای LDA با استفاده از تمامی ویژگی ها می باشد 2.76% \n",
      "میزان خطای QDA با استفاده از تمامی ویژگی ها می باشد 2.7%\n"
     ]
    }
   ],
   "source": [
    "# استفاده از تمام ویژگی ها\n",
    "lda.fit(df[features], df['default'])\n",
    "\n",
    "qda.fit(df[features], df['default'])\n",
    "\n",
    "new_lda_error_rate = (1 - lda.score(df[features], df['default']))*100\n",
    "\n",
    "new_qda_error_rate = (1 - qda.score(df[features], df['default']))*100\n",
    "\n",
    "print(\"میزان خطای LDA با استفاده از تمامی ویژگی ها می باشد {}% \".format(np.round(new_lda_error_rate, 2)))\n",
    "\n",
    "print(\"میزان خطای QDA با استفاده از تمامی ویژگی ها می باشد {}%\".format(np.round(new_qda_error_rate, 2)))"
   ]
  },
  {
   "cell_type": "markdown",
   "metadata": {},
   "source": [
    "** مشاهده:**\n",
    "\n",
    "- مشاهده می کنیم که با استفاده از تمامی ویژگی ها برای پیش بینی پیش فرض، میزان خطا کاهش یافته است."
   ]
  },
  {
   "cell_type": "markdown",
   "metadata": {},
   "source": [
    "## **رگرسیون لجستیک**"
   ]
  },
  {
   "cell_type": "code",
   "execution_count": 31,
   "metadata": {},
   "outputs": [],
   "source": [
    "# افزودن کتابخانه رگرسیون لجستیک\n",
    "\n",
    "from sklearn.linear_model import LogisticRegression"
   ]
  },
  {
   "cell_type": "code",
   "execution_count": 32,
   "metadata": {},
   "outputs": [
    {
     "name": "stdout",
     "output_type": "stream",
     "text": [
      "Logistic Regression error rate using balance feature is 2.75% \n"
     ]
    }
   ],
   "source": [
    "lr = LogisticRegression(penalty = 'none', max_iter = 100)\n",
    "\n",
    "lr.fit(balance, df['default'])\n",
    "\n",
    "lr_error_rate = (1 - lr.score(balance, df['default']))*100\n",
    "\n",
    "print(\"Logistic Regression error rate using balance feature is {}% \".format(np.round(lr_error_rate, 2)))"
   ]
  },
  {
   "cell_type": "code",
   "execution_count": 33,
   "metadata": {},
   "outputs": [
    {
     "data": {
      "text/plain": [
       "<bound method BaseEstimator.get_params of LogisticRegression(penalty='none')>"
      ]
     },
     "execution_count": 33,
     "metadata": {},
     "output_type": "execute_result"
    }
   ],
   "source": [
    "lr.get_params"
   ]
  },
  {
   "cell_type": "code",
   "execution_count": 34,
   "metadata": {},
   "outputs": [
    {
     "name": "stdout",
     "output_type": "stream",
     "text": [
      "نرخ خطای رگرسیون لجستیک با استفاده از تمامی ویژگی ها برابر است با: 3.28% \n",
      "نرخ خطای رگرسیون لجستیک با استفاده از قدر مطلق (کند) تنظیم شده برابر است با: 2.69% \n"
     ]
    }
   ],
   "source": [
    "lrm = LogisticRegression(penalty = 'none')\n",
    "\n",
    "lrm.fit(df[features], df['default'])\n",
    "\n",
    "lr_error_rate = (1 - lrm.score(df[features], df['default']))*100\n",
    "\n",
    "lrm_r = LogisticRegression(penalty = 'l1', solver = 'liblinear')\n",
    "\n",
    "lrm_r.fit(df[features], df['default'])\n",
    "\n",
    "lrm_r_error_rate = (1 - lrm_r.score(df[features], df['default']))*100\n",
    "\n",
    "print(\"نرخ خطای رگرسیون لجستیک با استفاده از تمامی ویژگی ها برابر است با: {}% \".format(np.round(lr_error_rate, 2)))\n",
    "\n",
    "print(\"نرخ خطای رگرسیون لجستیک با استفاده از قدر مطلق (کند) تنظیم شده برابر است با: {}% \".format(np.round(lrm_r_error_rate, 2)))"
   ]
  },
  {
   "cell_type": "markdown",
   "metadata": {},
   "source": [
    "**مشاهدات:**\n",
    "\n",
    "- ما نرخ خطا را برای LDA، QDA و رگرسیون لجستیک محاسبه کردیم.\n",
    "- هایپرپارامتر - 'multi_class' از طبقه بندی چند کلاسه مراقبت می کند.\n",
    "- برای ارزیابی مدل و بررسی عملکرد آن بر روی داده‌های دیده نشده، همیشه یک مجموعه اعتبارسنجی تهیه کنید و عملکرد مدل را روی همان بررسی کنید.\n",
    "- اکنون به K-NN حرکت می کنیم، جایی که بررسی عملکرد مجموعه اعتبار سنجی را نشان می دهیم."
   ]
  },
  {
   "cell_type": "markdown",
   "metadata": {},
   "source": [
    "## **K-نزدیکترین همسایه (K-NN)**"
   ]
  },
  {
   "cell_type": "code",
   "execution_count": 36,
   "metadata": {},
   "outputs": [],
   "source": [
    "from sklearn.neighbors import KNeighborsClassifier\n",
    "\n",
    "from sklearn.model_selection import train_test_split\n",
    "\n",
    "# مقیاس بندی ویژگی ها\n",
    "from sklearn.preprocessing import StandardScaler\n",
    "\n",
    "ss = StandardScaler()"
   ]
  },
  {
   "cell_type": "markdown",
   "metadata": {},
   "source": []
  },
  {
   "cell_type": "code",
   "execution_count": 37,
   "metadata": {},
   "outputs": [
    {
     "name": "stdout",
     "output_type": "stream",
     "text": [
      "1\n",
      "[0.0, 0.04274]\n",
      "2\n",
      "[0.021706249999999993, 0.033595]\n",
      "3\n",
      "[0.022348749999999997, 0.03339500000000001]\n",
      "4\n",
      "[0.024982500000000005, 0.030380000000000004]\n",
      "5\n",
      "[0.025087499999999992, 0.030205000000000003]\n",
      "6\n",
      "[0.0254875, 0.028900000000000006]\n",
      "7\n",
      "[0.025088749999999996, 0.028895]\n",
      "8\n",
      "[0.025471250000000004, 0.028835000000000006]\n",
      "9\n",
      "[0.0254175, 0.02912500000000001]\n",
      "10\n",
      "[0.02587625, 0.028299999999999995]\n",
      "11\n",
      "[0.025756249999999994, 0.028450000000000003]\n",
      "12\n",
      "[0.026147500000000004, 0.028424999999999992]\n",
      "13\n",
      "[0.02600374999999999, 0.027814999999999993]\n",
      "14\n",
      "[0.026477500000000015, 0.02781]\n",
      "15\n",
      "[0.026291250000000002, 0.02745499999999999]\n"
     ]
    },
    {
     "data": {
      "text/plain": [
       "{1: [0.0, 0.04274],\n",
       " 2: [0.021706249999999993, 0.033595],\n",
       " 3: [0.022348749999999997, 0.03339500000000001],\n",
       " 4: [0.024982500000000005, 0.030380000000000004],\n",
       " 5: [0.025087499999999992, 0.030205000000000003],\n",
       " 6: [0.0254875, 0.028900000000000006],\n",
       " 7: [0.025088749999999996, 0.028895],\n",
       " 8: [0.025471250000000004, 0.028835000000000006],\n",
       " 9: [0.0254175, 0.02912500000000001],\n",
       " 10: [0.02587625, 0.028299999999999995],\n",
       " 11: [0.025756249999999994, 0.028450000000000003],\n",
       " 12: [0.026147500000000004, 0.028424999999999992],\n",
       " 13: [0.02600374999999999, 0.027814999999999993],\n",
       " 14: [0.026477500000000015, 0.02781],\n",
       " 15: [0.026291250000000002, 0.02745499999999999]}"
      ]
     },
     "execution_count": 37,
     "metadata": {},
     "output_type": "execute_result"
    }
   ],
   "source": [
    "# بهترین مقدار k را انتخاب می کنیم که میزان خطای آن در داده های اعتبارسنجی کمترین است\n",
    "# اجازه دهید چند مقدار k را حلقه بزنیم تا بهترین k را تعیین کنیم\n",
    "\n",
    "train_error = []\n",
    "\n",
    "test_error = []\n",
    "\n",
    "knn_many_split = {}\n",
    "\n",
    "error_df_knn = pd.DataFrame()\n",
    "\n",
    "\n",
    "for k in range(1,16):\n",
    "    \n",
    "    train_error = []\n",
    "    test_error = []\n",
    "    lista = []\n",
    "    knn = KNeighborsClassifier(n_neighbors = k)\n",
    "    print(k)\n",
    "\n",
    "    for i in range(100):\n",
    "        x_train, x_test, y_train, y_test = train_test_split(df[features], df['default'], test_size = 0.20)\n",
    "\n",
    "        # مقیاس بندی داده به مقیاس بندی انجام شده توجه داشته باشید\n",
    "        x_train = ss.fit_transform(x_train)\n",
    "        x_test = ss.transform(x_test)\n",
    "        \n",
    "        # برازش بر روی مدل knn\n",
    "        knn.fit(x_train, y_train)\n",
    "        \n",
    "        # پیدا کردن خطاهای مجموه داده های آموزشی و تست\n",
    "        train_error.append(1 - knn.score(x_train, y_train)) \n",
    "        test_error.append(1 - knn.score(x_test, y_test))\n",
    "    \n",
    "    lista.append(sum(train_error)/len(train_error))\n",
    "    lista.append(sum(test_error)/len(test_error))\n",
    "    knn_many_split[k] = lista\n",
    "    print(knn_many_split[k])\n",
    "\n",
    "knn_many_split"
   ]
  },
  {
   "cell_type": "code",
   "execution_count": 38,
   "metadata": {},
   "outputs": [],
   "source": [
    "# استخراج k، خطای مجموعه داده‌های آموزشی و خطای مجموعه داده‌های تست در لیست های جداگانه برای ترسیم آسان\n",
    "\n",
    "kl = []\n",
    "vl = []\n",
    "v2 = []\n",
    "\n",
    "for k, v in knn_many_split.items():\n",
    "    \n",
    "    kl.append(k)\n",
    "    \n",
    "    vl.append(knn_many_split[k][1])\n",
    "    \n",
    "    v2.append(knn_many_split[k][0])"
   ]
  },
  {
   "cell_type": "code",
   "execution_count": 39,
   "metadata": {},
   "outputs": [
    {
     "data": {
      "image/png": "[encoded data removed]",
      "text/plain": [
       "<Figure size 800x800 with 1 Axes>"
      ]
     },
     "metadata": {},
     "output_type": "display_data"
    }
   ],
   "source": [
    "# ترسیم k در مقابل خطای آموزشی و خطای تست\n",
    "plt.figure(figsize = (8, 8))\n",
    "\n",
    "plt.xlabel(\"Number of Neighbors (k)\")\n",
    "\n",
    "plt.ylabel(\"Error\")\n",
    "\n",
    "plt.plot(kl, vl, label = 'Test Error')\n",
    "\n",
    "plt.plot(kl, v2, label = 'Train Error')\n",
    "\n",
    "plt.legend()\n",
    "\n",
    "plt.show()"
   ]
  },
  {
   "cell_type": "markdown",
   "metadata": {},
   "source": [
    "**مشاهده**:\n",
    "\n",
    "- از نمودار بالا می توان گفت که K=15 مدل تعمیم یافته با خطاهای قطار و تست بسیار مشابه را به ما می دهد."
   ]
  }
 ],
 "metadata": {
  "kernelspec": {
   "display_name": "Python 3",
   "language": "python",
   "name": "python3"
  },
  "language_info": {
   "codemirror_mode": {
    "name": "ipython",
    "version": 3
   },
   "file_extension": ".py",
   "mimetype": "text/x-python",
   "name": "python",
   "nbconvert_exporter": "python",
   "pygments_lexer": "ipython3",
   "version": "3.11.1"
  },
  "orig_nbformat": 4
 },
 "nbformat": 4,
 "nbformat_minor": 2
}
